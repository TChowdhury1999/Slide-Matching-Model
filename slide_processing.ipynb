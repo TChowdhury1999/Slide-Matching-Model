{
 "cells": [
  {
   "cell_type": "code",
   "execution_count": 1,
   "metadata": {},
   "outputs": [],
   "source": [
    "import numpy as np\n",
    "import pandas as pd\n",
    "from pptx import Presentation\n",
    "from PIL import Image\n",
    "import win32com.client"
   ]
  },
  {
   "cell_type": "markdown",
   "metadata": {},
   "source": [
    "# Notebook to explore preprocessing of slides"
   ]
  },
  {
   "cell_type": "code",
   "execution_count": 9,
   "metadata": {},
   "outputs": [
    {
     "name": "stdout",
     "output_type": "stream",
     "text": [
      "12192000 6858000\n",
      "12200350 6864325\n",
      "removing\n",
      "removed\n",
      "12223315 6847561\n",
      "removing\n",
      "removed\n",
      "12188952 6858000\n",
      "removing\n",
      "removed\n"
     ]
    }
   ],
   "source": [
    "# load a powerpoint\n",
    "prs = Presentation(\"data/slide_dataset/dataset_presentation_1.pptx\")\n",
    "\n",
    "# set slide dimensions\n",
    "slide_width = prs.slide_width\n",
    "slide_height = prs.slide_height\n",
    "\n",
    "print(slide_width, slide_height)\n",
    "\n",
    "# loop through slides\n",
    "for slide in prs.slides:\n",
    "\n",
    "    # for each slide, loop through the shapes\n",
    "    for count, shape in enumerate(slide.shapes):\n",
    "\n",
    "        # check if the width and height are > 80% of the slide width and height\n",
    "        if ( shape.width > slide_width * 0.8) & ( shape.height > slide_height * 0.8):\n",
    "            print(shape.width, shape.height)\n",
    "            # remove this shape\n",
    "            print(\"removing\")\n",
    "            shape_element = shape.element\n",
    "            shape_element.getparent().remove(shape_element)\n",
    "            print(\"removed\")\n",
    "\n",
    "\n",
    "# save presentation\n",
    "prs.save(\"data/slide_dataset_processed/dataset_presentation_1_processed.pptx\")\n"
   ]
  }
 ],
 "metadata": {
  "kernelspec": {
   "display_name": "Python 3",
   "language": "python",
   "name": "python3"
  },
  "language_info": {
   "codemirror_mode": {
    "name": "ipython",
    "version": 3
   },
   "file_extension": ".py",
   "mimetype": "text/x-python",
   "name": "python",
   "nbconvert_exporter": "python",
   "pygments_lexer": "ipython3",
   "version": "3.7.0"
  }
 },
 "nbformat": 4,
 "nbformat_minor": 2
}
