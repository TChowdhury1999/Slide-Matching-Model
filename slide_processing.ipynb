{
 "cells": [
  {
   "cell_type": "code",
   "execution_count": 19,
   "metadata": {},
   "outputs": [],
   "source": [
    "import numpy as np\n",
    "import pandas as pd\n",
    "from pptx import Presentation\n",
    "from PIL import Image\n",
    "import win32com.client"
   ]
  },
  {
   "cell_type": "code",
   "execution_count": 20,
   "metadata": {},
   "outputs": [],
   "source": [
    "lorem_ipsum_text = (\n",
    "    \"Lorem ipsum dolor sit amet, consectetur adipiscing elit. \"\n",
    "    \"Sed do eiusmod tempor incididunt ut labore et dolore magna aliqua. \"\n",
    "    \"Ut enim ad minim veniam, quis nostrud exercitation ullamco laboris nisi ut aliquip ex ea commodo consequat. \"\n",
    "    \"Duis aute irure dolor in reprehenderit in voluptate velit esse cillum dolore eu fugiat nulla pariatur. \"\n",
    "    \"Excepteur sint occaecat cupidatat non proident, sunt in culpa qui officia deserunt mollit anim id est laborum.\"\n",
    ")"
   ]
  },
  {
   "cell_type": "markdown",
   "metadata": {},
   "source": [
    "# Notebook to explore preprocessing of slides"
   ]
  },
  {
   "cell_type": "code",
   "execution_count": 21,
   "metadata": {},
   "outputs": [
    {
     "name": "stdout",
     "output_type": "stream",
     "text": [
      "12192000 6858000\n"
     ]
    }
   ],
   "source": [
    "# load a powerpoint\n",
    "prs = Presentation(\"data/slide_dataset/dataset_presentation_1.pptx\")\n",
    "\n",
    "# set slide dimensions\n",
    "slide_width = prs.slide_width\n",
    "slide_height = prs.slide_height\n",
    "\n",
    "print(slide_width, slide_height)\n",
    "\n",
    "\n",
    "\n",
    "\n",
    "# loop through slides\n",
    "for slide in prs.slides:\n",
    "\n",
    "    # for each slide, loop through the shapes\n",
    "    for count, shape in enumerate(slide.shapes):\n",
    "\n",
    "        # check if the width and height  of shape are > 80% of the slide width and height\n",
    "        if ( shape.width > slide_width * 0.8) & ( shape.height > slide_height * 0.8):\n",
    "            #  this is a background image so remove this shape\n",
    "            shape_element = shape.element\n",
    "            shape_element.getparent().remove(shape_element)\n",
    "\n",
    "\n",
    "        # check if text\n",
    "        if shape.has_text_frame and shape.text_frame.text.strip():\n",
    "            # Get the original text from the shape\n",
    "            original_text = shape.text_frame.text\n",
    "    \n",
    "            # Use slicing to crop Lorem Ipsum text to the length of the original text\n",
    "            cropped_text = lorem_ipsum_text * (len(original_text) // len(lorem_ipsum_text) + 1)\n",
    "            cropped_text = cropped_text[:len(original_text)]\n",
    "            \n",
    "            # Replace the text of the shape with cropped Lorem Ipsum text\n",
    "            shape.text_frame.text = cropped_text\n",
    "\n",
    "\n",
    "\n",
    "# save presentation\n",
    "prs.save(\"data/slide_dataset_processed/dataset_presentation_1_processed.pptx\")\n"
   ]
  }
 ],
 "metadata": {
  "kernelspec": {
   "display_name": "Python 3",
   "language": "python",
   "name": "python3"
  },
  "language_info": {
   "codemirror_mode": {
    "name": "ipython",
    "version": 3
   },
   "file_extension": ".py",
   "mimetype": "text/x-python",
   "name": "python",
   "nbconvert_exporter": "python",
   "pygments_lexer": "ipython3",
   "version": "3.7.0"
  }
 },
 "nbformat": 4,
 "nbformat_minor": 2
}
